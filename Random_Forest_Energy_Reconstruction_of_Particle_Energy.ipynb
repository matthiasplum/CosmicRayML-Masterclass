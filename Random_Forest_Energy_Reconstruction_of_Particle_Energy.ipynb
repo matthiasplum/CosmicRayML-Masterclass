{
  "nbformat": 4,
  "nbformat_minor": 0,
  "metadata": {
    "colab": {
      "provenance": [],
      "authorship_tag": "ABX9TyO95A8gpCVseHzVFcBxFdEE",
      "include_colab_link": true
    },
    "kernelspec": {
      "name": "python3",
      "display_name": "Python 3"
    },
    "language_info": {
      "name": "python"
    }
  },
  "cells": [
    {
      "cell_type": "markdown",
      "metadata": {
        "id": "view-in-github",
        "colab_type": "text"
      },
      "source": [
        "<a href=\"https://colab.research.google.com/github/matthiasplum/CosmicRayML-Masterclass/blob/main/Random_Forest_Energy_Reconstruction_of_Particle_Energy.ipynb\" target=\"_parent\"><img src=\"https://colab.research.google.com/assets/colab-badge.svg\" alt=\"Open In Colab\"/></a>"
      ]
    },
    {
      "cell_type": "code",
      "source": [
        "import numpy as np\n",
        "import pandas as pd\n",
        "from sklearn.model_selection import train_test_split\n",
        "from sklearn.ensemble import RandomForestRegressor\n",
        "from sklearn.metrics import mean_squared_error, r2_score\n",
        "import matplotlib.pyplot as plt"
      ],
      "metadata": {
        "id": "3oRQVdRlXJQr"
      },
      "execution_count": null,
      "outputs": []
    },
    {
      "cell_type": "markdown",
      "source": [
        "#Step 1: Generate Synthetic Dataset\n",
        "We'll create a synthetic dataset to simulate the energy reconstruction of extensive air showers. The dataset will include features such as the number of particles, arrival times, and zenith angles."
      ],
      "metadata": {
        "id": "DtTQxR-_bSFB"
      }
    },
    {
      "cell_type": "code",
      "source": [
        "# Set random seed for reproducibility\n",
        "np.random.seed(42)\n",
        "\n",
        "# Number of samples\n",
        "n_samples = 1000  # Adjust the number of samples as needed\n",
        "\n",
        "# Generating synthetic features\n",
        "X = pd.DataFrame({\n",
        "    'num_particles': np.random.uniform(1e4, 1e6, n_samples),  # Adjust the range as needed\n",
        "    'arrival_time': np.random.uniform(0, 1, n_samples),       # Adjust the range as needed\n",
        "    'zenith_angle': np.random.uniform(0, np.pi/2, n_samples)  # Adjust the range as needed\n",
        "})\n",
        "# Let's assume a simple relation: energy = a * num_particles + b * arrival_time + c * zenith_angle + noise\n",
        "a, b, c = 3e-3, 4e3, 1e1                          # Adjust these values as needed\n",
        "noise = np.random.normal(0, 1e3, n_samples)       # Adjust the noise level as needed\n",
        "y = a * X['num_particles'] + b * X['arrival_time'] + c * X['zenith_angle'] + noise"
      ],
      "metadata": {
        "id": "gEfjPO-tXQKm"
      },
      "execution_count": null,
      "outputs": []
    },
    {
      "cell_type": "markdown",
      "source": [
        "You can try some feature scaling to improve your results"
      ],
      "metadata": {
        "id": "iOczoi60cU5E"
      }
    },
    {
      "cell_type": "code",
      "source": [],
      "metadata": {
        "id": "_jjQD9EMcUHI"
      },
      "execution_count": null,
      "outputs": []
    },
    {
      "cell_type": "markdown",
      "source": [
        "Train and Test data are created here\n"
      ],
      "metadata": {
        "id": "6u6pDb2Db1VR"
      }
    },
    {
      "cell_type": "code",
      "execution_count": null,
      "metadata": {
        "id": "tHB6zA8AWxV1"
      },
      "outputs": [],
      "source": [
        "# Split the dataset into training and testing sets\n",
        "X_train, X_test, y_train, y_test = train_test_split(X, y, test_size=0.2, random_state=42)"
      ]
    },
    {
      "cell_type": "markdown",
      "source": [
        "Please plot the input variables by yourself!\n"
      ],
      "metadata": {
        "id": "k_A1ojRWbAAF"
      }
    },
    {
      "cell_type": "code",
      "source": [
        "#Insert plotting code here!"
      ],
      "metadata": {
        "id": "bMJQnGInbIrt"
      },
      "execution_count": null,
      "outputs": []
    },
    {
      "cell_type": "code",
      "source": [
        "# @title Plot the input variables (SPOILER)\n",
        "# Plot input variables vs true energy\n",
        "#features = ['num_particles', 'arrival_time', 'zenith_angle']\n",
        "#fig, axs = plt.subplots(1, 3, figsize=(18, 5))\n",
        "\n",
        "#for i, feature in enumerate(features):\n",
        "#    axs[i].scatter(X[feature], y, alpha=0.5)\n",
        "#    axs[i].set_xlabel(feature)\n",
        "#    axs[i].set_ylabel('True Energy')\n",
        "#    axs[i].set_title(f'{feature} vs True Energy')\n",
        "\n",
        "#plt.tight_layout()\n",
        "#plt.show()\n",
        "print(\"UNCOMMENT code if needed\")"
      ],
      "metadata": {
        "cellView": "form",
        "id": "-bhWzbTTYgpV"
      },
      "execution_count": null,
      "outputs": []
    },
    {
      "cell_type": "markdown",
      "source": [
        "#Step 2: Train the Random Forest Regressor\n",
        "Next, we'll train a Random Forest Regressor using the synthetic dataset."
      ],
      "metadata": {
        "id": "Qk8BLSfybdkc"
      }
    },
    {
      "cell_type": "code",
      "source": [
        "# Create the Random Forest Regressor model\n",
        "rf_regressor = RandomForestRegressor(n_estimators=100, random_state=42) #Adjust n_estimators as needed\n",
        "\n",
        "# Train the model\n",
        "rf_regressor.fit(X_train, y_train)"
      ],
      "metadata": {
        "id": "KHDTpOIJXjGX"
      },
      "execution_count": null,
      "outputs": []
    },
    {
      "cell_type": "markdown",
      "source": [
        "#Step 3: Evaluate the Model\n",
        "We'll evaluate the performance of the model using mean squared error (MSE) and R-squared (R2) metrics."
      ],
      "metadata": {
        "id": "VmUu-lnwbmJX"
      }
    },
    {
      "cell_type": "code",
      "source": [
        "# Make predictions on the test set\n",
        "y_pred = rf_regressor.predict(X_test)\n",
        "\n",
        "# Calculate evaluation metrics\n",
        "mse = mean_squared_error(y_test, y_pred)\n",
        "r2 = r2_score(y_test, y_pred)\n",
        "\n",
        "print(f\"Mean Squared Error: {mse:.2f}\")\n",
        "print(f\"R-squared: {r2:.2f}\")\n",
        "\n",
        "# Plot true vs predicted values\n",
        "plt.figure(figsize=(10, 6))\n",
        "plt.scatter(y_test, y_pred, alpha=0.5)\n",
        "plt.plot([y.min(), y.max()], [y.min(), y.max()], 'k--', lw=2)\n",
        "plt.xlabel('True Energy')\n",
        "plt.ylabel('Predicted Energy')\n",
        "plt.title('True vs Predicted EAS Energy')\n",
        "plt.show()"
      ],
      "metadata": {
        "id": "UCZjJ63rXpE3"
      },
      "execution_count": null,
      "outputs": []
    },
    {
      "cell_type": "markdown",
      "source": [
        "Get the feature importance for the random forest ensemble\n"
      ],
      "metadata": {
        "id": "FH6Lf6PocnZ-"
      }
    },
    {
      "cell_type": "code",
      "source": [
        "# Get feature importances\n",
        "feature_importances = rf_regressor.feature_importances_\n",
        "\n",
        "# Create a DataFrame for visualization\n",
        "importance_df = pd.DataFrame({\n",
        "    'Feature': X.columns,\n",
        "    'Importance': feature_importances\n",
        "}).sort_values(by='Importance', ascending=False)\n",
        "\n",
        "# Plot feature importances\n",
        "plt.figure(figsize=(10, 6))\n",
        "plt.bar(importance_df['Feature'], importance_df['Importance'])\n",
        "plt.xlabel('Feature')\n",
        "plt.ylabel('Importance')\n",
        "plt.title('Feature Importances')\n",
        "plt.show()"
      ],
      "metadata": {
        "id": "m379gsjEXvgY"
      },
      "execution_count": null,
      "outputs": []
    }
  ]
}